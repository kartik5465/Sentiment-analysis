{
  "nbformat": 4,
  "nbformat_minor": 0,
  "metadata": {
    "colab": {
      "provenance": []
    },
    "kernelspec": {
      "name": "python3",
      "display_name": "Python 3"
    },
    "language_info": {
      "name": "python"
    }
  },
  "cells": [
    {
      "cell_type": "code",
      "execution_count": null,
      "metadata": {
        "id": "sTG15Krg06li",
        "colab": {
          "base_uri": "https://localhost:8080/"
        },
        "outputId": "cc59c519-b7a3-494e-ab80-dc1066c9b902"
      },
      "outputs": [
        {
          "output_type": "stream",
          "name": "stdout",
          "text": [
            "Collecting vaderSentiment\n",
            "  Downloading vaderSentiment-3.3.2-py2.py3-none-any.whl (125 kB)\n",
            "\u001b[K     |████████████████████████████████| 125 kB 5.0 MB/s \n",
            "\u001b[?25hRequirement already satisfied: requests in /usr/local/lib/python3.7/dist-packages (from vaderSentiment) (2.23.0)\n",
            "Requirement already satisfied: certifi>=2017.4.17 in /usr/local/lib/python3.7/dist-packages (from requests->vaderSentiment) (2021.10.8)\n",
            "Requirement already satisfied: urllib3!=1.25.0,!=1.25.1,<1.26,>=1.21.1 in /usr/local/lib/python3.7/dist-packages (from requests->vaderSentiment) (1.24.3)\n",
            "Requirement already satisfied: idna<3,>=2.5 in /usr/local/lib/python3.7/dist-packages (from requests->vaderSentiment) (2.10)\n",
            "Requirement already satisfied: chardet<4,>=3.0.2 in /usr/local/lib/python3.7/dist-packages (from requests->vaderSentiment) (3.0.4)\n",
            "Installing collected packages: vaderSentiment\n",
            "Successfully installed vaderSentiment-3.3.2\n"
          ]
        }
      ],
      "source": [
        "pip install vaderSentiment"
      ]
    },
    {
      "cell_type": "code",
      "source": [
        "import vaderSentiment"
      ],
      "metadata": {
        "id": "xW1F-vaSzQNF"
      },
      "execution_count": null,
      "outputs": []
    },
    {
      "cell_type": "code",
      "source": [
        "from vaderSentiment.vaderSentiment import SentimentIntensityAnalyzer\n",
        "sentiment_model = SentimentIntensityAnalyzer()"
      ],
      "metadata": {
        "id": "M1zh2G1VewoF"
      },
      "execution_count": null,
      "outputs": []
    },
    {
      "cell_type": "code",
      "source": [
        "from google.colab import drive\n",
        "drive.mount('/content/drive/')"
      ],
      "metadata": {
        "id": "YOnYTpXIzTow",
        "colab": {
          "base_uri": "https://localhost:8080/"
        },
        "outputId": "2a5f3cec-1447-4f8d-e658-dca9bdcd64b1"
      },
      "execution_count": null,
      "outputs": [
        {
          "output_type": "stream",
          "name": "stdout",
          "text": [
            "Mounted at /content/drive/\n"
          ]
        }
      ]
    },
    {
      "cell_type": "code",
      "source": [
        "cd drive/MyDrive/"
      ],
      "metadata": {
        "colab": {
          "base_uri": "https://localhost:8080/"
        },
        "id": "FwsvgL6WLM6X",
        "outputId": "47d74de7-3b9e-4e16-b8ea-a7a22eb06752"
      },
      "execution_count": null,
      "outputs": [
        {
          "output_type": "stream",
          "name": "stdout",
          "text": [
            "/content/drive/MyDrive\n"
          ]
        }
      ]
    },
    {
      "cell_type": "code",
      "source": [
        "with open('IMDB Dataset.csv') as f:\n",
        "   con = f.read().splitlines() "
      ],
      "metadata": {
        "id": "k2VY6784zdla"
      },
      "execution_count": null,
      "outputs": []
    },
    {
      "cell_type": "code",
      "source": [
        "con"
      ],
      "metadata": {
        "id": "4AkeEyN0O0Me"
      },
      "execution_count": null,
      "outputs": []
    },
    {
      "cell_type": "code",
      "source": [
        "con = [i.replace('<br />',' ') for i in con ]"
      ],
      "metadata": {
        "id": "SGK8X69bQBgv"
      },
      "execution_count": null,
      "outputs": []
    },
    {
      "cell_type": "code",
      "source": [
        "con = [i.replace(',positive',' ') for i in con ]"
      ],
      "metadata": {
        "id": "JLt8SZd4VLs5"
      },
      "execution_count": null,
      "outputs": []
    },
    {
      "cell_type": "code",
      "source": [
        "con = [i.replace(',negative',' ') for i in con ]"
      ],
      "metadata": {
        "id": "Sp12ZMhDVUax"
      },
      "execution_count": null,
      "outputs": []
    },
    {
      "cell_type": "code",
      "source": [
        "for sentence in con[1:11]:\n",
        "    \n",
        "    scores = sentiment_model.polarity_scores(sentence)\n",
        "    \n",
        "    print(sentence)\n",
        "    \n",
        "    print(\"negative: {: <15} neutral: {: <15} positive: {: <15} compound: {}\\n\".format(\n",
        "        scores['neg'], scores['neu'], scores['pos'], scores['compound']\n",
        "    ))"
      ],
      "metadata": {
        "colab": {
          "base_uri": "https://localhost:8080/"
        },
        "id": "_75c4TDGnZw1",
        "outputId": "31dbfd26-20bd-468c-a5d1-0138bd122bd1"
      },
      "execution_count": null,
      "outputs": [
        {
          "output_type": "stream",
          "name": "stdout",
          "text": [
            "\"One of the other reviewers has mentioned that after watching just 1 Oz episode you'll be hooked. They are right, as this is exactly what happened with me.  The first thing that struck me about Oz was its brutality and unflinching scenes of violence, which set in right from the word GO. Trust me, this is not a show for the faint hearted or timid. This show pulls no punches with regards to drugs, sex or violence. Its is hardcore, in the classic use of the word.  It is called OZ as that is the nickname given to the Oswald Maximum Security State Penitentary. It focuses mainly on Emerald City, an experimental section of the prison where all the cells have glass fronts and face inwards, so privacy is not high on the agenda. Em City is home to many..Aryans, Muslims, gangstas, Latinos, Christians, Italians, Irish and more....so scuffles, death stares, dodgy dealings and shady agreements are never far away.  I would say the main appeal of the show is due to the fact that it goes where other shows wouldn't dare. Forget pretty pictures painted for mainstream audiences, forget charm, forget romance...OZ doesn't mess around. The first episode I ever saw struck me as so nasty it was surreal, I couldn't say I was ready for it, but as I watched more, I developed a taste for Oz, and got accustomed to the high levels of graphic violence. Not just violence, but injustice (crooked guards who'll be sold out for a nickel, inmates who'll kill on order and get away with it, well mannered, middle class inmates being turned into prison bitches due to their lack of street skills or prison experience) Watching Oz, you may become comfortable with what is uncomfortable viewing....thats if you can get in touch with your darker side.\" \n",
            "negative: 0.181           neutral: 0.754           positive: 0.065           compound: -0.9916\n",
            "\n",
            "\"A wonderful little production.   The filming technique is very unassuming- very old-time-BBC fashion and gives a comforting, and sometimes discomforting, sense of realism to the entire piece.   The actors are extremely well chosen- Michael Sheen not only \"\"has got all the polari\"\" but he has all the voices down pat too! You can truly see the seamless editing guided by the references to Williams' diary entries, not only is it well worth the watching but it is a terrificly written and performed piece. A masterful production about one of the great master's of comedy and his life.   The realism really comes home with the little things: the fantasy of the guard which, rather than use the traditional 'dream' techniques remains solid then disappears. It plays on our knowledge and our senses, particularly with the scenes concerning Orton and Halliwell and the sets (particularly of their flat with Halliwell's murals decorating every surface) are terribly well done.\" \n",
            "negative: 0.053           neutral: 0.765           positive: 0.182           compound: 0.967\n",
            "\n",
            "\"I thought this was a wonderful way to spend time on a too hot summer weekend, sitting in the air conditioned theater and watching a light-hearted comedy. The plot is simplistic, but the dialogue is witty and the characters are likable (even the well bread suspected serial killer). While some may be disappointed when they realize this is not Match Point 2: Risk Addiction, I thought it was proof that Woody Allen is still fully in control of the style many of us have grown to love.  This was the most I'd laughed at one of Woody's comedies in years (dare I say a decade?). While I've never been impressed with Scarlet Johanson, in this she managed to tone down her \"\"sexy\"\" image and jumped right into a average, but spirited young woman.  This may not be the crown jewel of his career, but it was wittier than \"\"Devil Wears Prada\"\" and more interesting than \"\"Superman\"\" a great comedy to go see with friends.\" \n",
            "negative: 0.113           neutral: 0.665           positive: 0.222           compound: 0.9745\n",
            "\n",
            "\"Basically there's a family where a little boy (Jake) thinks there's a zombie in his closet & his parents are fighting all the time.  This movie is slower than a soap opera... and suddenly, Jake decides to become Rambo and kill the zombie.  OK, first of all when you're going to make a film you must Decide if its a thriller or a drama! As a drama the movie is watchable. Parents are divorcing & arguing like in real life. And then we have Jake with his closet which totally ruins all the film! I expected to see a BOOGEYMAN similar movie, and instead i watched a drama with some meaningless thriller spots.  3 out of 10 just for the well playing parents & descent dialogs. As for the shots with Jake: just ignore them.\" \n",
            "negative: 0.127           neutral: 0.813           positive: 0.06            compound: -0.9213\n",
            "\n",
            "\"Petter Mattei's \"\"Love in the Time of Money\"\" is a visually stunning film to watch. Mr. Mattei offers us a vivid portrait about human relations. This is a movie that seems to be telling us what money, power and success do to people in the different situations we encounter.   This being a variation on the Arthur Schnitzler's play about the same theme, the director transfers the action to the present time New York where all these different characters meet and connect. Each one is connected in one way, or another to the next person, but no one seems to know the previous point of contact. Stylishly, the film has a sophisticated luxurious look. We are taken to see how these people live and the world they live in their own habitat.  The only thing one gets out of all these souls in the picture is the different stages of loneliness each one inhabits. A big city is not exactly the best place in which human relations find sincere fulfillment, as one discerns is the case with most of the people we encounter.  The acting is good under Mr. Mattei's direction. Steve Buscemi, Rosario Dawson, Carol Kane, Michael Imperioli, Adrian Grenier, and the rest of the talented cast, make these characters come alive.  We wish Mr. Mattei good luck and await anxiously for his next work.\" \n",
            "negative: 0.051           neutral: 0.796           positive: 0.153           compound: 0.9766\n",
            "\n",
            "\"Probably my all-time favorite movie, a story of selflessness, sacrifice and dedication to a noble cause, but it's not preachy or boring. It just never gets old, despite my having seen it some 15 or more times in the last 25 years. Paul Lukas' performance brings tears to my eyes, and Bette Davis, in one of her very few truly sympathetic roles, is a delight. The kids are, as grandma says, more like \"\"dressed-up midgets\"\" than children, but that only makes them more fun to watch. And the mother's slow awakening to what's happening in the world and under her own roof is believable and startling. If I had a dozen thumbs, they'd all be \"\"up\"\" for this movie.\" \n",
            "negative: 0.017           neutral: 0.766           positive: 0.217           compound: 0.9828\n",
            "\n",
            "\"I sure would like to see a resurrection of a up dated Seahunt series with the tech they have today it would bring back the kid excitement in me.I grew up on black and white TV and Seahunt with Gunsmoke were my hero's every week.You have my vote for a comeback of a new sea hunt.We need a change of pace in TV and this would work for a world of under water adventure.Oh by the way thank you for an outlet like this to view many viewpoints about TV and the many movies.So any ole way I believe I've got what I wanna say.Would be nice to read some more plus points about sea hunt.If my rhymes would be 10 lines would you let me submit,or leave me out to be in doubt and have me to quit,If this is so then I must go so lets do it.\" \n",
            "negative: 0.023           neutral: 0.879           positive: 0.098           compound: 0.9022\n",
            "\n",
            "\"This show was an amazing, fresh & innovative idea in the 70's when it first aired. The first 7 or 8 years were brilliant, but things dropped off after that. By 1990, the show was not really funny anymore, and it's continued its decline further to the complete waste of time it is today.  It's truly disgraceful how far this show has fallen. The writing is painfully bad, the performances are almost as bad - if not for the mildly entertaining respite of the guest-hosts, this show probably wouldn't still be on the air. I find it so hard to believe that the same creator that hand-selected the original cast also chose the band of hacks that followed. How can one recognize such brilliance and then see fit to replace it with such mediocrity? I felt I must give 2 stars out of respect for the original cast that made this show such a huge success. As it is now, the show is just awful. I can't believe it's still on the air.\" \n",
            "negative: 0.141           neutral: 0.669           positive: 0.19            compound: 0.873\n",
            "\n",
            "\"Encouraged by the negative comments about this film on here I was looking forward to watching this film. Bad mistake. I've seen 950+ films and this is truly one of the worst of them - it's awful in almost every way: editing, pacing, storyline, 'acting,' soundtrack (the film's only song - a lame country tune - is played no less than four times). The film looks cheap and nasty and is boring in the extreme. Rarely have I been so happy to see the end credits of a film.   The only thing that prevents me giving this a 1-score is Harvey Keitel - while this is far from his best performance he at least seems to be making a bit of an effort. One for Keitel obsessives only.\" \n",
            "negative: 0.181           neutral: 0.678           positive: 0.141           compound: -0.7475\n",
            "\n",
            "\"If you like original gut wrenching laughter you will like this movie. If you are young or old then you will love this movie, hell even my mom liked it.  Great Camp!!!\" \n",
            "negative: 0.09            neutral: 0.47            positive: 0.44            compound: 0.9507\n",
            "\n"
          ]
        }
      ]
    },
    {
      "cell_type": "code",
      "source": [
        "sentences = [\n",
        "    \"Our Saturday classes and fun and super interesting!\",\n",
        "    \"Make sure you :) or :D today!\",\n",
        "    \"The book was great, I enjoyed it very much.\",\n",
        "    \"At least it isn't a horrible book.\",\n",
        "    \"I got a very bad grade on my homework.\",\n",
        "    \"Today is a really good day :(\"\n",
        "]\n",
        "print(sentences)"
      ],
      "metadata": {
        "colab": {
          "base_uri": "https://localhost:8080/"
        },
        "id": "3U7p3ux-d8v6",
        "outputId": "e66c1145-9407-4373-ea78-ba8aa8303ae5"
      },
      "execution_count": null,
      "outputs": [
        {
          "output_type": "stream",
          "name": "stdout",
          "text": [
            "['Our Saturday classes and fun and super interesting!', 'Make sure you :) or :D today!', 'The book was great, I enjoyed it very much.', \"At least it isn't a horrible book.\", 'I got a very bad grade on my homework.', 'Today is a really good day :(']\n"
          ]
        }
      ]
    },
    {
      "cell_type": "code",
      "source": [
        "for sentence in sentences:\n",
        "    \n",
        "    scores = sentiment_model.polarity_scores(sentence)\n",
        "    \n",
        "    print(sentence)\n",
        "    \n",
        "    print(\"negative: {: <15} neutral: {: <15} positive: {: <15} compound: {}\\n\".format(\n",
        "        scores['neg'], scores['neu'], scores['pos'], scores['compound']\n",
        "    ))"
      ],
      "metadata": {
        "colab": {
          "base_uri": "https://localhost:8080/"
        },
        "id": "11E6H_fSd_fr",
        "outputId": "ee6010a7-acef-4706-c882-bd4d29629001"
      },
      "execution_count": null,
      "outputs": [
        {
          "output_type": "stream",
          "name": "stdout",
          "text": [
            "Our Saturday classes and fun and super interesting!\n",
            "negative: 0.0             neutral: 0.329           positive: 0.671           compound: 0.8805\n",
            "\n",
            "Make sure you :) or :D today!\n",
            "negative: 0.0             neutral: 0.294           positive: 0.706           compound: 0.8633\n",
            "\n",
            "The book was great, I enjoyed it very much.\n",
            "negative: 0.0             neutral: 0.486           positive: 0.514           compound: 0.8126\n",
            "\n",
            "At least it isn't a horrible book.\n",
            "negative: 0.0             neutral: 0.678           positive: 0.322           compound: 0.431\n",
            "\n",
            "I got a very bad grade on my homework.\n",
            "negative: 0.322           neutral: 0.678           positive: 0.0             compound: -0.5849\n",
            "\n",
            "Today is a really good day :(\n",
            "negative: 0.279           neutral: 0.44            positive: 0.281           compound: 0.0076\n",
            "\n"
          ]
        }
      ]
    },
    {
      "cell_type": "code",
      "source": [],
      "metadata": {
        "id": "_EcyS5SXqk4Y"
      },
      "execution_count": null,
      "outputs": []
    }
  ]
}